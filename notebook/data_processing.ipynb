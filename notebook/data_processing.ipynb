{
 "cells": [
  {
   "cell_type": "markdown",
   "metadata": {},
   "source": [
    "data source:\n",
    "\n",
    "    https://www.kaggle.com/datasets/rounakbanik/the-movies-dataset?select=ratings_small.csv\n",
    "    https://www.kaggle.com/datasets/asaniczka/tmdb-movies-dataset-2023-930k-movies?resource=download&select=TMDB_movie_dataset_v11.csv"
   ]
  },
  {
   "cell_type": "code",
   "execution_count": 1,
   "metadata": {},
   "outputs": [],
   "source": [
    "import seaborn as sns\n",
    "import matplotlib.pyplot as plt \n",
    "import pandas as pd\n",
    "from tqdm import tqdm\n",
    "import json\n",
    "import pickle\n",
    "import numpy as np\n",
    "import os\n",
    "from sklearn.preprocessing import MultiLabelBinarizer"
   ]
  },
  {
   "attachments": {},
   "cell_type": "markdown",
   "metadata": {},
   "source": [
    "### TMDB dataset"
   ]
  },
  {
   "cell_type": "code",
   "execution_count": 2,
   "metadata": {},
   "outputs": [],
   "source": [
    "TMDB_movie = pd.read_csv(\"../data/TMDB_movie_dataset_v11.csv\").dropna(subset=[\"popularity\", \"genres\", \"id\"])\n",
    "TMDB_rating = pd.read_csv(\"../data/ratings_small.csv\").dropna(subset=[\"userId\", \"movieId\", \"rating\", \"timestamp\"])\n",
    "TMDB_rating.columns = [\"userId\", \"id\", \"rating\", \"timestamp\"]\n",
    "\n",
    "merged_df = pd.merge(TMDB_movie, TMDB_rating, on=\"id\", how=\"inner\")\n",
    "dataset = merged_df[[\"userId\", \"id\", \"rating\", \"timestamp\", \"popularity\", \"genres\"]]"
   ]
  },
  {
   "cell_type": "code",
   "execution_count": 3,
   "metadata": {},
   "outputs": [],
   "source": [
    "dataset.loc[:, \"genres\"] = dataset[\"genres\"].apply(lambda x: x.replace(\"Science Fiction\", \"Science-Fiction\"))\n",
    "dataset.loc[:, \"genres\"] = dataset[\"genres\"].apply(lambda x: x.replace(\"TV Movie\", \"tv-movie\"))"
   ]
  },
  {
   "cell_type": "code",
   "execution_count": 4,
   "metadata": {},
   "outputs": [],
   "source": [
    "dataset = dataset.loc[dataset['genres'].notna()]\n",
    "dataset_scaled = dataset.copy()\n",
    "dataset_scaled[\"popularity\"] /= (dataset[\"popularity\"].max() - dataset[\"popularity\"].min())"
   ]
  },
  {
   "cell_type": "code",
   "execution_count": 5,
   "metadata": {},
   "outputs": [
    {
     "data": {
      "image/png": "[encoded data removed]",
      "text/plain": [
       "<Figure size 640x480 with 1 Axes>"
      ]
     },
     "metadata": {},
     "output_type": "display_data"
    }
   ],
   "source": [
    "dataset_sorted = dataset_scaled.sort_values(by=\"popularity\", ascending=False)\n",
    "\n",
    "range_i = list(range(0, dataset_sorted.shape[0]))\n",
    "sns.lineplot(x=range_i, y=dataset_sorted[\"popularity\"])\n",
    "plt.show()"
   ]
  },
  {
   "cell_type": "code",
   "execution_count": 6,
   "metadata": {},
   "outputs": [
    {
     "data": {
      "text/html": [
       "<div>\n",
       "<style scoped>\n",
       "    .dataframe tbody tr th:only-of-type {\n",
       "        vertical-align: middle;\n",
       "    }\n",
       "\n",
       "    .dataframe tbody tr th {\n",
       "        vertical-align: top;\n",
       "    }\n",
       "\n",
       "    .dataframe thead th {\n",
       "        text-align: right;\n",
       "    }\n",
       "</style>\n",
       "<table border=\"1\" class=\"dataframe\">\n",
       "  <thead>\n",
       "    <tr style=\"text-align: right;\">\n",
       "      <th></th>\n",
       "      <th>userId</th>\n",
       "      <th>id</th>\n",
       "      <th>rating</th>\n",
       "      <th>timestamp</th>\n",
       "      <th>popularity</th>\n",
       "      <th>genres</th>\n",
       "    </tr>\n",
       "  </thead>\n",
       "  <tbody>\n",
       "    <tr>\n",
       "      <th>22818</th>\n",
       "      <td>407</td>\n",
       "      <td>1880</td>\n",
       "      <td>4.0</td>\n",
       "      <td>962647016</td>\n",
       "      <td>1.001999</td>\n",
       "      <td>Action, Thriller, War, Drama</td>\n",
       "    </tr>\n",
       "    <tr>\n",
       "      <th>22817</th>\n",
       "      <td>41</td>\n",
       "      <td>1880</td>\n",
       "      <td>4.0</td>\n",
       "      <td>1093889528</td>\n",
       "      <td>1.001999</td>\n",
       "      <td>Action, Thriller, War, Drama</td>\n",
       "    </tr>\n",
       "    <tr>\n",
       "      <th>41</th>\n",
       "      <td>165</td>\n",
       "      <td>671</td>\n",
       "      <td>3.5</td>\n",
       "      <td>1111482370</td>\n",
       "      <td>0.617989</td>\n",
       "      <td>Adventure, Fantasy</td>\n",
       "    </tr>\n",
       "    <tr>\n",
       "      <th>45</th>\n",
       "      <td>346</td>\n",
       "      <td>671</td>\n",
       "      <td>5.0</td>\n",
       "      <td>1044650809</td>\n",
       "      <td>0.617989</td>\n",
       "      <td>Adventure, Fantasy</td>\n",
       "    </tr>\n",
       "    <tr>\n",
       "      <th>52</th>\n",
       "      <td>422</td>\n",
       "      <td>671</td>\n",
       "      <td>4.0</td>\n",
       "      <td>980859486</td>\n",
       "      <td>0.617989</td>\n",
       "      <td>Adventure, Fantasy</td>\n",
       "    </tr>\n",
       "  </tbody>\n",
       "</table>\n",
       "</div>"
      ],
      "text/plain": [
       "       userId    id  rating   timestamp  popularity  \\\n",
       "22818     407  1880     4.0   962647016    1.001999   \n",
       "22817      41  1880     4.0  1093889528    1.001999   \n",
       "41        165   671     3.5  1111482370    0.617989   \n",
       "45        346   671     5.0  1044650809    0.617989   \n",
       "52        422   671     4.0   980859486    0.617989   \n",
       "\n",
       "                             genres  \n",
       "22818  Action, Thriller, War, Drama  \n",
       "22817  Action, Thriller, War, Drama  \n",
       "41               Adventure, Fantasy  \n",
       "45               Adventure, Fantasy  \n",
       "52               Adventure, Fantasy  "
      ]
     },
     "execution_count": 6,
     "metadata": {},
     "output_type": "execute_result"
    }
   ],
   "source": [
    "dataset_sorted.head(5)"
   ]
  },
  {
   "cell_type": "code",
   "execution_count": 7,
   "metadata": {},
   "outputs": [
    {
     "data": {
      "image/png": "[encoded data removed]",
      "text/plain": [
       "<Figure size 640x480 with 1 Axes>"
      ]
     },
     "metadata": {},
     "output_type": "display_data"
    }
   ],
   "source": [
    "# count by movie id \n",
    "count = dataset_sorted[\"userId\"].value_counts()\n",
    "count = list(count)\n",
    "count.sort(reverse=True)\n",
    "count\n",
    "range_i = list(range(0, len(count)))\n",
    "sns.lineplot(x=range_i, y=count)\n",
    "plt.show()"
   ]
  },
  {
   "attachments": {},
   "cell_type": "markdown",
   "metadata": {},
   "source": [
    "Create sparse/semantic matrix"
   ]
  },
  {
   "cell_type": "code",
   "execution_count": 8,
   "metadata": {},
   "outputs": [
    {
     "name": "stderr",
     "output_type": "stream",
     "text": [
      "400000it [00:10, 38766.20it/s]\n",
      "100%|██████████| 59390/59390 [00:06<00:00, 9627.64it/s]\n"
     ]
    }
   ],
   "source": [
    "def load_glove(words = None, glove_path = \"../glove.6B/glove.6B.300d.txt\", save_path = \"../data/glove.json\"):\n",
    "    \n",
    "    if \"glove.json\" in os.listdir(\"../data/\"):\n",
    "        with open(save_path, \"r\") as f:\n",
    "            glove = json.load(f)\n",
    "            f.close()\n",
    "    else:\n",
    "        glove = {}\n",
    "        with open(glove_path, \"r\") as f:\n",
    "            for line in tqdm(f):\n",
    "                values = line.split()\n",
    "                word = values[0]\n",
    "                if words is None or word in words:\n",
    "                    vector = np.asarray(values[1:], \"float32\")\n",
    "                    glove[word] = vector.tolist()\n",
    "            f.close()\n",
    "        \n",
    "        with open(save_path, \"w\") as f:\n",
    "            json.dump(glove, f)\n",
    "            f.close()\n",
    "        \n",
    "    return glove\n",
    "\n",
    "\n",
    "genre_l = dataset_scaled['genres'].apply(lambda x :[ y.strip().lower().replace(' ','') for y in x.split(',')] )\n",
    "\n",
    "\n",
    "MLB = MultiLabelBinarizer()\n",
    "\n",
    "encoded = MLB.fit_transform(genre_l)\n",
    "\n",
    "glove = load_glove(words = MLB.classes_)\n",
    "\n",
    "sem_vec = []\n",
    "\n",
    "for i in tqdm(range(len(genre_l))):\n",
    "    sem_vec.append(np.array([glove[word] if word in genre_l[i] else np.zeros(300) for word in MLB.classes_ ]))"
   ]
  },
  {
   "cell_type": "code",
   "execution_count": 9,
   "metadata": {},
   "outputs": [],
   "source": [
    "data_preprocessed = dataset_scaled.copy()\n",
    "data_preprocessed[\"sparse_genres\"] = list(encoded)\n",
    "data_preprocessed[\"sem_genres\"] = list(sem_vec)"
   ]
  },
  {
   "cell_type": "code",
   "execution_count": 10,
   "metadata": {},
   "outputs": [],
   "source": [
    "data_preprocessed.sort_values(by=\"timestamp\", inplace=True)"
   ]
  },
  {
   "cell_type": "code",
   "execution_count": 11,
   "metadata": {},
   "outputs": [],
   "source": [
    "pickle.dump(data_preprocessed, open(\"../data/preprocessed.pkl\", \"wb\"))"
   ]
  }
 ],
 "metadata": {
  "kernelspec": {
   "display_name": "federatedenv",
   "language": "python",
   "name": "python3"
  },
  "language_info": {
   "codemirror_mode": {
    "name": "ipython",
    "version": 3
   },
   "file_extension": ".py",
   "mimetype": "text/x-python",
   "name": "python",
   "nbconvert_exporter": "python",
   "pygments_lexer": "ipython3",
   "version": "3.10.14"
  },
  "orig_nbformat": 4
 },
 "nbformat": 4,
 "nbformat_minor": 2
}
